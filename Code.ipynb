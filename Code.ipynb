{
 "cells": [
  {
   "cell_type": "code",
   "execution_count": 1,
   "metadata": {},
   "outputs": [
    {
     "data": {
      "text/html": [
       "\n",
       "      <iframe id=\"tensorboard-frame-9ad27a8043afe458\" width=\"100%\" height=\"800\" frameborder=\"0\">\n",
       "      </iframe>\n",
       "      <script>\n",
       "        (function() {\n",
       "          const frame = document.getElementById(\"tensorboard-frame-9ad27a8043afe458\");\n",
       "          const url = new URL(\"/\", window.location);\n",
       "          const port = 6006;\n",
       "          if (port) {\n",
       "            url.port = port;\n",
       "          }\n",
       "          frame.src = url;\n",
       "        })();\n",
       "      </script>\n",
       "    "
      ],
      "text/plain": [
       "<IPython.core.display.HTML object>"
      ]
     },
     "metadata": {},
     "output_type": "display_data"
    }
   ],
   "source": [
    "import numpy as np\n",
    "import pandas as pd\n",
    "import random as python_random\n",
    "import shutil\n",
    "import os\n",
    "import datetime\n",
    "from PIL import Image\n",
    "from multiprocessing import cpu_count\n",
    "from joblib import Parallel, delayed\n",
    "from collections import Counter\n",
    "from matplotlib import pyplot as plt\n",
    "from sklearn.model_selection import StratifiedShuffleSplit, train_test_split\n",
    "from sklearn.metrics import classification_report, confusion_matrix, mean_absolute_error\n",
    "\n",
    "import tensorflow as tf\n",
    "from tensorflow import keras\n",
    "from tensorflow.keras import layers\n",
    "from tensorflow.keras.preprocessing.image import ImageDataGenerator\n",
    "\n",
    "# for reproducibility purposes\n",
    "SEED = 123\n",
    "tf.random.set_seed(SEED)\n",
    "\n",
    "# load tensorboard extension\n",
    "%reload_ext tensorboard\n",
    "# specify the log directory where the tensorboard logs will be written\n",
    "%tensorboard --logdir logs"
   ]
  },
  {
   "cell_type": "markdown",
   "metadata": {},
   "source": [
    "#### Loading the relevant datasets (15/100)"
   ]
  },
  {
   "cell_type": "code",
   "execution_count": 187,
   "metadata": {},
   "outputs": [
    {
     "name": "stdout",
     "output_type": "stream",
     "text": [
      "(15026, 4)\n",
      "(4696, 4)\n",
      "(3757, 4)\n",
      "Index(['age', 'ethnicity', 'gender', 'img_name'], dtype='object')\n",
      "Proportion of Female in train : 0.5233595101823506\n",
      "Proportion of Female in test : 0.5229982964224872\n",
      "Proportion of Female in val : 0.5230236891136545\n",
      "Proportion of Male in train : 0.4766404898176494\n",
      "Proportion of Male in test : 0.47700170357751276\n",
      "Proportion of Male in val : 0.4769763108863455\n",
      "Proportion of ethinicity 0 in train : 0.4240649540795954\n",
      "Proportion of ethinicity 1 in train : 0.19093571143351523\n",
      "Proportion of ethinicity 2 in train : 0.1454811659789698\n",
      "Proportion of ethinicity 3 in train : 0.16797550911752962\n",
      "Proportion of ethinicity 4 in train : 0.07154265939038999\n",
      "Proportion of ethinicity 0 in test : 0.4239778534923339\n",
      "Proportion of ethinicity 1 in test : 0.19080068143100512\n",
      "Proportion of ethinicity 2 in test : 0.14544293015332196\n",
      "Proportion of ethinicity 3 in test : 0.1682282793867121\n",
      "Proportion of ethinicity 4 in test : 0.07155025553662692\n",
      "Proportion of ethinicity 0 in val : 0.424008517434123\n",
      "Proportion of ethinicity 1 in val : 0.19084375831780676\n",
      "Proportion of ethinicity 2 in val : 0.1455948895395262\n",
      "Proportion of ethinicity 3 in val : 0.16821932392866648\n",
      "Proportion of ethinicity 4 in val : 0.07133351077987757\n"
     ]
    },
    {
     "name": "stderr",
     "output_type": "stream",
     "text": [
      "C:\\Users\\asad3\\anaconda3\\lib\\site-packages\\seaborn\\_decorators.py:36: FutureWarning: Pass the following variable as a keyword arg: x. From version 0.12, the only valid positional argument will be `data`, and passing other arguments without an explicit keyword will result in an error or misinterpretation.\n",
      "  warnings.warn(\n"
     ]
    },
    {
     "data": {
      "image/png": "[encoded data removed]",
      "text/plain": [
       "<Figure size 2016x648 with 1 Axes>"
      ]
     },
     "metadata": {
      "needs_background": "light"
     },
     "output_type": "display_data"
    }
   ],
   "source": [
    "# load the datasets using the csv files train, val and test \n",
    "# (3)\n",
    "train=pd.read_csv('data/train.csv')\n",
    "test=pd.read_csv('data/test.csv')\n",
    "val=pd.read_csv('data/val.csv')\n",
    "# print the shapes of the dataframes \n",
    "# (3)\n",
    "print(train.shape)\n",
    "print(test.shape)\n",
    "print(val.shape)\n",
    "# print the column names from either one of the dataframes \n",
    "# (1)\n",
    "print(train.columns)\n",
    "# print the proportional distribution of gender in all three datasets(i.e., number of male and female) \n",
    "# (3)\n",
    "print('Proportion of Female in train'+' : '+ str(len(train[train['gender']==0])/len(train.index)))\n",
    "print('Proportion of Female in test'+' : '+ str(len(test[test['gender']==0])/len(test.index)))\n",
    "print('Proportion of Female in val'+' : '+ str(len(val[val['gender']==0])/len(val.index)))\n",
    "print('Proportion of Male in train'+' : '+ str(len(train[train['gender']==1])/len(train.index)))\n",
    "print('Proportion of Male in test'+' : '+ str(len(test[test['gender']==1])/len(test.index)))\n",
    "print('Proportion of Male in val'+' : '+ str(len(val[val['gender']==1])/len(val.index)))\n",
    "# print the proportional distribution of ethnicity in all three datasets \n",
    "# (3)\n",
    "for i,k in zip([train,test,val],['train','test','val']):\n",
    "    for j in range(0,5):\n",
    "        print('Proportion of ethinicity'+ ' ' + str(j) + ' in ' + k + ' : ' + str(len(i[i['ethnicity']==j])/len(i.index)))\n",
    "        \n",
    "# plot the age distribution from the training dataset where the x-axis plots the age and the y-axis depicts the count of individuals within each age group. For example, individuals with age=1 are:\n",
    "import seaborn as sns\n",
    "plt.rcParams['figure.figsize']=(28,9)\n",
    "sns.countplot(train['age'])\n",
    "plt.show()\n",
    "# (2)"
   ]
  },
  {
   "cell_type": "markdown",
   "metadata": {},
   "source": [
    "#### Create the ImageDataGenerators (22/100)"
   ]
  },
  {
   "cell_type": "code",
   "execution_count": 198,
   "metadata": {},
   "outputs": [],
   "source": [
    "import cv2\n",
    "Training_images=[]\n",
    "Training_lables=[]\n",
    "Validation_images=[]\n",
    "Validation_labels=[]\n",
    "for img in os.listdir('data/images/train'):\n",
    "    image=cv2.imread('data/images/train/'+img)\n",
    "    source=train[train['img_name']==img]\n",
    "    Training_images.append(image)\n",
    "    Training_lables.append((int(source['age']),int(source['gender']),int(source['ethnicity'])))\n",
    "for img in os.listdir('data/images/val'):\n",
    "    image=cv2.imread('data/images/val/'+img)\n",
    "    source=val[val['img_name']==img]\n",
    "    Validation_images.append(image)\n",
    "    Validation_labels.append((int(source['age']),int(source['gender']),int(source['ethnicity'])))\n",
    "    \n",
    "Training_images=np.array(Training_images)\n",
    "Validation_images=np.array(Validation_images)"
   ]
  },
  {
   "cell_type": "code",
   "execution_count": 201,
   "metadata": {},
   "outputs": [
    {
     "data": {
      "text/plain": [
       "((15026, 48, 48, 3), (3757, 48, 48, 3))"
      ]
     },
     "execution_count": 201,
     "metadata": {},
     "output_type": "execute_result"
    }
   ],
   "source": [
    "Training_images.shape,Validation_images.shape"
   ]
  },
  {
   "cell_type": "code",
   "execution_count": 209,
   "metadata": {},
   "outputs": [],
   "source": [
    "train_age=np.array(Training_lables)[:,0]\n",
    "train_gender=np.array(Training_lables)[:,1]\n",
    "train_ethinicity=np.array(Training_lables)[:,2]\n",
    "\n",
    "val_age=np.array(Validation_labels)[:,0]\n",
    "val_gender=np.array(Validation_labels)[:,1]\n",
    "val_ethinicity=np.array(Validation_labels)[:,2]"
   ]
  },
  {
   "cell_type": "markdown",
   "metadata": {},
   "source": [
    "#### TensorBoard lunch comands"
   ]
  },
  {
   "cell_type": "code",
   "execution_count": 314,
   "metadata": {},
   "outputs": [],
   "source": [
    "from datetime import datetime\n",
    "from packaging import version\n",
    "logdir = \"logs/scalars/\" + datetime.now().strftime(\"%Y%m%d-%H%M%S\")\n",
    "tensorboard_callback = keras.callbacks.TensorBoard(log_dir=logdir)"
   ]
  },
  {
   "cell_type": "code",
   "execution_count": 317,
   "metadata": {},
   "outputs": [],
   "source": [
    "logdir = \"logs/scalars/\" + datetime.now().strftime(\"%Y%m%d-%H%M%S\")\n",
    "file_writer = tf.summary.create_file_writer(logdir + \"/metrics\")\n",
    "file_writer.set_as_default()\n",
    "def lr_schedule(epoch):\n",
    "    learning_rate = 0.2\n",
    "    if epoch > 5:\n",
    "        learning_rate = 0.02\n",
    "    if epoch > 8:\n",
    "        learning_rate = 0.01\n",
    "    if epoch > 10:\n",
    "        learning_rate = 0.005\n",
    "\n",
    "    tf.summary.scalar('learning rate', data=learning_rate, step=epoch)\n",
    "    return learning_rate\n",
    "\n",
    "lr_callback = keras.callbacks.LearningRateScheduler(lr_schedule)\n",
    "tensorboard_callback = keras.callbacks.TensorBoard(log_dir=logdir)"
   ]
  },
  {
   "cell_type": "markdown",
   "metadata": {},
   "source": [
    "#### Create the model (44/100)"
   ]
  },
  {
   "cell_type": "code",
   "execution_count": 318,
   "metadata": {},
   "outputs": [
    {
     "name": "stdout",
     "output_type": "stream",
     "text": [
      "Epoch 1/10\n",
      "470/470 [==============================] - 35s 73ms/step - loss: 8699860521844736.0000 - Age_loss: 8699860521844736.0000 - Gender_loss: 505846.5625 - Ethnicity_loss: 1168260.7500 - Age_mae: 4199411.5000 - Gender_Accuracy: 0.4989 - Ethnicity_Accuracy: 0.2643 - val_loss: 704.6274 - val_Age_loss: 499.5900 - val_Gender_loss: 15.0686 - val_Ethnicity_loss: 189.9686 - val_Age_mae: 19.0265 - val_Gender_Accuracy: 0.4770 - val_Ethnicity_Accuracy: 0.4240 - lr: 0.2000\n",
      "Epoch 2/10\n",
      "470/470 [==============================] - 38s 80ms/step - loss: 682.2915 - Age_loss: 454.8159 - Gender_loss: 45.9888 - Ethnicity_loss: 181.4864 - Age_mae: 16.6425 - Gender_Accuracy: 0.5011 - Ethnicity_Accuracy: 0.2699 - val_loss: 665.6506 - val_Age_loss: 428.7565 - val_Gender_loss: 12.5900 - val_Ethnicity_loss: 224.3042 - val_Age_mae: 17.1390 - val_Gender_Accuracy: 0.4770 - val_Ethnicity_Accuracy: 0.1908 - lr: 0.2000\n",
      "Epoch 3/10\n",
      "470/470 [==============================] - 37s 79ms/step - loss: 721.8463 - Age_loss: 481.1500 - Gender_loss: 47.5258 - Ethnicity_loss: 193.1709 - Age_mae: 17.1595 - Gender_Accuracy: 0.4998 - Ethnicity_Accuracy: 0.2683 - val_loss: 899.2422 - val_Age_loss: 472.1109 - val_Gender_loss: 18.0501 - val_Ethnicity_loss: 409.0810 - val_Age_mae: 18.3641 - val_Gender_Accuracy: 0.4770 - val_Ethnicity_Accuracy: 0.0713 - lr: 0.2000thnicity_loss: 192.3622 - Age_mae: 17.1427 - Gender_Accuracy: 0.5001 - Ethnicity_Accuracy\n",
      "Epoch 4/10\n",
      "470/470 [==============================] - 41s 87ms/step - loss: 768.4299 - Age_loss: 529.2227 - Gender_loss: 47.7102 - Ethnicity_loss: 191.4973 - Age_mae: 18.1056 - Gender_Accuracy: 0.5071 - Ethnicity_Accuracy: 0.2689 - val_loss: 920.5618 - val_Age_loss: 445.7609 - val_Gender_loss: 140.7847 - val_Ethnicity_loss: 334.0156 - val_Age_mae: 15.3863 - val_Gender_Accuracy: 0.4770 - val_Ethnicity_Accuracy: 0.1682 - lr: 0.2000\n",
      "Epoch 5/10\n",
      "470/470 [==============================] - 40s 84ms/step - loss: 772.8475 - Age_loss: 512.3041 - Gender_loss: 52.4062 - Ethnicity_loss: 208.1375 - Age_mae: 17.7990 - Gender_Accuracy: 0.4987 - Ethnicity_Accuracy: 0.2722 - val_loss: 689.6690 - val_Age_loss: 437.2256 - val_Gender_loss: 45.3798 - val_Ethnicity_loss: 207.0635 - val_Age_mae: 15.2479 - val_Gender_Accuracy: 0.4770 - val_Ethnicity_Accuracy: 0.4240 - lr: 0.2000\n",
      "Epoch 6/10\n",
      "470/470 [==============================] - 40s 84ms/step - loss: 718.7584 - Age_loss: 494.4784 - Gender_loss: 45.6795 - Ethnicity_loss: 178.6004 - Age_mae: 17.4328 - Gender_Accuracy: 0.4969 - Ethnicity_Accuracy: 0.2751 - val_loss: 627.8364 - val_Age_loss: 466.5187 - val_Gender_loss: 49.8387 - val_Ethnicity_loss: 111.4792 - val_Age_mae: 18.2190 - val_Gender_Accuracy: 0.4770 - val_Ethnicity_Accuracy: 0.1908 - lr: 0.2000\n",
      "Epoch 7/10\n",
      "470/470 [==============================] - 40s 86ms/step - loss: 421.2750 - Age_loss: 400.5038 - Gender_loss: 3.5645 - Ethnicity_loss: 17.2066 - Age_mae: 15.4731 - Gender_Accuracy: 0.4971 - Ethnicity_Accuracy: 0.2691 - val_loss: 426.6726 - val_Age_loss: 407.5317 - val_Gender_loss: 2.4156 - val_Ethnicity_loss: 16.7253 - val_Age_mae: 14.9887 - val_Gender_Accuracy: 0.4770 - val_Ethnicity_Accuracy: 0.4240 - lr: 0.0200\n",
      "Epoch 8/10\n",
      "470/470 [==============================] - 40s 84ms/step - loss: 416.1957 - Age_loss: 400.3971 - Gender_loss: 2.9384 - Ethnicity_loss: 12.8603 - Age_mae: 15.4510 - Gender_Accuracy: 0.4981 - Ethnicity_Accuracy: 0.2717 - val_loss: 407.4908 - val_Age_loss: 390.8019 - val_Gender_loss: 3.6622 - val_Ethnicity_loss: 13.0267 - val_Age_mae: 15.1585 - val_Gender_Accuracy: 0.4770 - val_Ethnicity_Accuracy: 0.1456 - lr: 0.0200\n",
      "Epoch 9/10\n",
      "470/470 [==============================] - 39s 84ms/step - loss: 422.4138 - Age_loss: 401.9695 - Gender_loss: 3.1481 - Ethnicity_loss: 17.2964 - Age_mae: 15.4955 - Gender_Accuracy: 0.4957 - Ethnicity_Accuracy: 0.2733 - val_loss: 463.7450 - val_Age_loss: 433.6071 - val_Gender_loss: 0.7116 - val_Ethnicity_loss: 29.4263 - val_Age_mae: 15.2021 - val_Gender_Accuracy: 0.4770 - val_Ethnicity_Accuracy: 0.1456 - lr: 0.0200\n",
      "Epoch 10/10\n",
      "470/470 [==============================] - 39s 82ms/step - loss: 409.6317 - Age_loss: 401.3152 - Gender_loss: 1.1420 - Ethnicity_loss: 7.1746 - Age_mae: 15.4294 - Gender_Accuracy: 0.4993 - Ethnicity_Accuracy: 0.2819 - val_loss: 398.9358 - val_Age_loss: 389.6459 - val_Gender_loss: 2.1663 - val_Ethnicity_loss: 7.1235 - val_Age_mae: 15.2829 - val_Gender_Accuracy: 0.5230 - val_Ethnicity_Accuracy: 0.1908 - lr: 0.0100\n"
     ]
    },
    {
     "data": {
      "text/plain": [
       "<keras.callbacks.History at 0x1964767b4f0>"
      ]
     },
     "execution_count": 318,
     "metadata": {},
     "output_type": "execute_result"
    }
   ],
   "source": [
    "# Firstly The Input layer of shape 48,48,3\n",
    "\n",
    "Input=keras.layers.Input(shape=(48,48,3),name='Input')\n",
    "\n",
    "# Then we add Conv2d Layer of 32 filters and 3 x 3 kernel size with padding same and relu activation\n",
    "\n",
    "Conv2d_1=keras.layers.Conv2D(32,(7,7),padding='same',activation='relu',name='Conv2d_1')(Input)\n",
    "\n",
    "# Then we add pooling 2d layer to reduce the size of parameters\n",
    "\n",
    "pool2d_1=keras.layers.AveragePooling2D((2,2),name='Pool2d_1')(Conv2d_1)\n",
    "\n",
    "# Then we add Conv2d Layer of 16 filters and 3 x 3 kernel size with padding same and relu activation\n",
    "\n",
    "Conv2d_2=keras.layers.Conv2D(16,(5,5),padding='same',activation='relu',name='Conv2d_2')(pool2d_1)\n",
    "\n",
    "# Again we add 2nd pooling2d layer for peremeter reduction\n",
    "\n",
    "pool2d_2=keras.layers.AveragePooling2D((2,2),name='Pool2d_2')(Conv2d_2)\n",
    "\n",
    "# Then we add Conv2d Layer of 32 filters and 3 x 3 kernel size with padding same and relu activation\n",
    "\n",
    "Conv2d_3=keras.layers.Conv2D(3,(3,3),padding='same',activation='relu',name='Conv2d_3')(pool2d_2)\n",
    "\n",
    "Flat=keras.layers.Flatten(name='Flatten')(Conv2d_3)\n",
    "\n",
    "Dense_1=keras.layers.Dense(500,activation='selu',name='Dense_1')(Flat)\n",
    "\n",
    "Dense_=keras.layers.Dense(250,activation='selu',name='Dense_mid')(Flat)\n",
    "\n",
    "Dense_2=keras.layers.Dense(100,activation='selu',name='Dense_2')(Dense_)\n",
    "\n",
    "output_1=keras.layers.Dense(1,name='Age')(Dense_2)\n",
    "\n",
    "output_2=keras.layers.Dense(1,activation='sigmoid',name='Gender')(Dense_2)\n",
    "\n",
    "output_3=keras.layers.Dense(5,activation='softmax',name='Ethnicity')(Dense_2)\n",
    "\n",
    "MTL_Model=keras.models.Model([Input],[output_1,output_2,output_3])\n",
    "MTL_Model.compile(optimizer=keras.optimizers.Adam(learning_rate=0.05),\n",
    "                 loss={\n",
    "                     'Age':'mse',\n",
    "                     'Gender':'binary_crossentropy',\n",
    "                     'Ethnicity':'sparse_categorical_crossentropy'\n",
    "                 },\n",
    "                  metrics={\n",
    "                       'Age':'mae',\n",
    "                     'Gender':'Accuracy',\n",
    "                     'Ethnicity':'Accuracy'\n",
    "                  }\n",
    "                 )\n",
    "MTL_Model.fit(Training_images,[train_age,train_gender,train_ethinicity],epochs=10,\n",
    "    validation_data=(Validation_images,[val_age,val_gender,val_ethinicity]),callbacks=[tensorboard_callback, lr_callback])"
   ]
  },
  {
   "cell_type": "code",
   "execution_count": 319,
   "metadata": {},
   "outputs": [
    {
     "data": {
      "text/html": [
       "\n",
       "      <iframe id=\"tensorboard-frame-e2b3594624e5bddd\" width=\"100%\" height=\"800\" frameborder=\"0\">\n",
       "      </iframe>\n",
       "      <script>\n",
       "        (function() {\n",
       "          const frame = document.getElementById(\"tensorboard-frame-e2b3594624e5bddd\");\n",
       "          const url = new URL(\"/\", window.location);\n",
       "          const port = 6006;\n",
       "          if (port) {\n",
       "            url.port = port;\n",
       "          }\n",
       "          frame.src = url;\n",
       "        })();\n",
       "      </script>\n",
       "    "
      ],
      "text/plain": [
       "<IPython.core.display.HTML object>"
      ]
     },
     "metadata": {},
     "output_type": "display_data"
    }
   ],
   "source": [
    "%tensorboard --logdir logs/scalars"
   ]
  },
  {
   "cell_type": "markdown",
   "metadata": {},
   "source": [
    "#### Making predictions on test data (14/100)"
   ]
  },
  {
   "cell_type": "code",
   "execution_count": 249,
   "metadata": {},
   "outputs": [
    {
     "name": "stdout",
     "output_type": "stream",
     "text": [
      "147/147 [==============================] - 3s 19ms/step - loss: 396.0259 - Age_loss: 393.7896 - Gender_loss: 0.6932 - Ethnicity_loss: 1.5429 - Age_mae: 15.1499 - Gender_Accuracy: 0.5230 - Ethnicity_Accuracy: 0.4240\n"
     ]
    },
    {
     "data": {
      "text/plain": [
       "[396.02587890625,\n",
       " 393.78961181640625,\n",
       " 0.6932421326637268,\n",
       " 1.542854905128479,\n",
       " 15.149919509887695,\n",
       " 0.5229982733726501,\n",
       " 0.4239778518676758]"
      ]
     },
     "execution_count": 249,
     "metadata": {},
     "output_type": "execute_result"
    }
   ],
   "source": [
    "# evaluate the trained model using the test generator\n",
    "\n",
    "Test_images=[]\n",
    "Test_lables=[]\n",
    "for img in os.listdir('data/images/test'):\n",
    "    image=cv2.imread('data/images/test/'+img)\n",
    "    source=test[test['img_name']==img]\n",
    "    Test_images.append(image)\n",
    "    Test_lables.append((int(source['age']),int(source['gender']),int(source['ethnicity'])))\n",
    "\n",
    "\n",
    "# print only the test accuracy for ethnicity and gender predictions    \n",
    "\n",
    "Test_images=np.array(Test_images)\n",
    "\n",
    "test_age=np.array(Test_lables)[:,0]\n",
    "test_gender=np.array(Test_lables)[:,1]\n",
    "test_ethinicity=np.array(Test_lables)[:,2]\n",
    "\n",
    "MTL_Model.evaluate(Test_images,[test_age,test_gender,test_ethinicity])"
   ]
  },
  {
   "cell_type": "markdown",
   "metadata": {},
   "source": [
    "#### Present prediction results on test data(5/100)"
   ]
  },
  {
   "cell_type": "code",
   "execution_count": 289,
   "metadata": {},
   "outputs": [],
   "source": [
    "Results=pd.DataFrame(columns=['Hyperparameters','Age(MAE)','Ethnicity(Accuracy)','Gender(Accuracy)'])"
   ]
  },
  {
   "cell_type": "code",
   "execution_count": 307,
   "metadata": {},
   "outputs": [
    {
     "name": "stderr",
     "output_type": "stream",
     "text": [
      "C:\\Users\\asad3\\AppData\\Local\\Temp/ipykernel_13016/871739277.py:2: FutureWarning: The frame.append method is deprecated and will be removed from pandas in a future version. Use pandas.concat instead.\n",
      "  Results=Results.append(df2, ignore_index = True)\n"
     ]
    }
   ],
   "source": [
    "df2={'Hyperparameters':'Lr: 0.05 epoch: 6 opt: Adam','Age(MAE)':15.3282,'Ethnicity(Accuracy)':0.2867,'Gender(Accuracy)':0.5051} \n",
    "Results=Results.append(df2, ignore_index = True)"
   ]
  },
  {
   "cell_type": "markdown",
   "metadata": {},
   "source": [
    "Present your findings for 5 different runs by fine-tuning the hyperparameters. The results table must contain the following fields\n",
    "- A minimum of 5 hyperparameters that you have fine-tuned\n",
    "- Mean absolute error for age\n",
    "- Accuracy for ethnicity prediction\n",
    "- Accuracy for gender prediction\n",
    "Please use a table format similar to the one mentioned below when presenting the results.\n",
    "\n",
    "| Hyperparameters | Age(MAE) | Ethnicity(Accuracy)| Gender(Accuracy) |\n",
    "|-----------------|----------|--------------------|------------------|\n",
    "|                 |          |                    |                  |\n",
    "|                 |          |                    |                  |\n",
    "|                 |          |                    |                  |\n",
    "|                 |          |                    |                  |\n",
    "|                 |          |                    |                  |\n"
   ]
  },
  {
   "cell_type": "code",
   "execution_count": 308,
   "metadata": {},
   "outputs": [
    {
     "data": {
      "text/html": [
       "<div>\n",
       "<style scoped>\n",
       "    .dataframe tbody tr th:only-of-type {\n",
       "        vertical-align: middle;\n",
       "    }\n",
       "\n",
       "    .dataframe tbody tr th {\n",
       "        vertical-align: top;\n",
       "    }\n",
       "\n",
       "    .dataframe thead th {\n",
       "        text-align: right;\n",
       "    }\n",
       "</style>\n",
       "<table border=\"1\" class=\"dataframe\">\n",
       "  <thead>\n",
       "    <tr style=\"text-align: right;\">\n",
       "      <th></th>\n",
       "      <th>Hyperparameters</th>\n",
       "      <th>Age(MAE)</th>\n",
       "      <th>Ethnicity(Accuracy)</th>\n",
       "      <th>Gender(Accuracy)</th>\n",
       "    </tr>\n",
       "  </thead>\n",
       "  <tbody>\n",
       "    <tr>\n",
       "      <th>0</th>\n",
       "      <td>Lr: 0.01 epoch: 10 opt: Adam</td>\n",
       "      <td>394.0305</td>\n",
       "      <td>0.380739</td>\n",
       "      <td>0.4977</td>\n",
       "    </tr>\n",
       "    <tr>\n",
       "      <th>1</th>\n",
       "      <td>Lr: 0.001 epoch: 10 opt: Adam</td>\n",
       "      <td>6.9302</td>\n",
       "      <td>0.5584</td>\n",
       "      <td>0.7799</td>\n",
       "    </tr>\n",
       "    <tr>\n",
       "      <th>2</th>\n",
       "      <td>Lr: 0.01 epoch: 5 opt: RMSProp</td>\n",
       "      <td>15.3837</td>\n",
       "      <td>0.3316</td>\n",
       "      <td>0.4986</td>\n",
       "    </tr>\n",
       "    <tr>\n",
       "      <th>3</th>\n",
       "      <td>Lr: 0.0001 epoch: 6 opt: RMSProp</td>\n",
       "      <td>9.7096</td>\n",
       "      <td>0.4779</td>\n",
       "      <td>0.671</td>\n",
       "    </tr>\n",
       "    <tr>\n",
       "      <th>4</th>\n",
       "      <td>Lr: 0.05 epoch: 6 opt: Adam</td>\n",
       "      <td>15.3282</td>\n",
       "      <td>0.2867</td>\n",
       "      <td>0.5051</td>\n",
       "    </tr>\n",
       "  </tbody>\n",
       "</table>\n",
       "</div>"
      ],
      "text/plain": [
       "                    Hyperparameters  Age(MAE) Ethnicity(Accuracy)  \\\n",
       "0      Lr: 0.01 epoch: 10 opt: Adam  394.0305            0.380739   \n",
       "1     Lr: 0.001 epoch: 10 opt: Adam    6.9302              0.5584   \n",
       "2    Lr: 0.01 epoch: 5 opt: RMSProp   15.3837              0.3316   \n",
       "3  Lr: 0.0001 epoch: 6 opt: RMSProp    9.7096              0.4779   \n",
       "4       Lr: 0.05 epoch: 6 opt: Adam   15.3282              0.2867   \n",
       "\n",
       "  Gender(Accuracy)  \n",
       "0           0.4977  \n",
       "1           0.7799  \n",
       "2           0.4986  \n",
       "3            0.671  \n",
       "4           0.5051  "
      ]
     },
     "execution_count": 308,
     "metadata": {},
     "output_type": "execute_result"
    }
   ],
   "source": [
    "Results"
   ]
  },
  {
   "cell_type": "code",
   "execution_count": 309,
   "metadata": {},
   "outputs": [],
   "source": [
    "Results.to_csv('Concluded_Results.csv')"
   ]
  },
  {
   "cell_type": "markdown",
   "metadata": {},
   "source": [
    "# Download Model and getting Weights"
   ]
  },
  {
   "cell_type": "code",
   "execution_count": 311,
   "metadata": {},
   "outputs": [
    {
     "name": "stderr",
     "output_type": "stream",
     "text": [
      "WARNING:absl:Function `_wrapped_model` contains input name(s) Input with unsupported characters which will be renamed to input in the SavedModel.\n"
     ]
    },
    {
     "name": "stdout",
     "output_type": "stream",
     "text": [
      "INFO:tensorflow:Assets written to: models\\assets\n"
     ]
    },
    {
     "name": "stderr",
     "output_type": "stream",
     "text": [
      "INFO:tensorflow:Assets written to: models\\assets\n"
     ]
    }
   ],
   "source": [
    "keras.models.save_model(MTL_Model,'models')"
   ]
  },
  {
   "cell_type": "code",
   "execution_count": null,
   "metadata": {},
   "outputs": [],
   "source": []
  }
 ],
 "metadata": {
  "interpreter": {
   "hash": "fcacb1169d0317e97b762e0c1a317633c556cb59cb1017287d7e24b96b766e04"
  },
  "kernelspec": {
   "display_name": "Python 3 (ipykernel)",
   "language": "python",
   "name": "python3"
  },
  "language_info": {
   "codemirror_mode": {
    "name": "ipython",
    "version": 3
   },
   "file_extension": ".py",
   "mimetype": "text/x-python",
   "name": "python",
   "nbconvert_exporter": "python",
   "pygments_lexer": "ipython3",
   "version": "3.8.5"
  }
 },
 "nbformat": 4,
 "nbformat_minor": 2
}
